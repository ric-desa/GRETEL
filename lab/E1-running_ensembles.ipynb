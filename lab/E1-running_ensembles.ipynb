{
 "cells": [
  {
   "cell_type": "markdown",
   "metadata": {},
   "source": [
    "### Setting paths and imports"
   ]
  },
  {
   "cell_type": "code",
   "execution_count": null,
   "metadata": {},
   "outputs": [],
   "source": [
    "import sys\n",
    "import os\n",
    "import pandas as pd\n",
    "\n",
    "module_path = os.path.abspath(os.path.join('..'))\n",
    "sys.path.append(module_path)\n",
    "module_path"
   ]
  },
  {
   "cell_type": "code",
   "execution_count": null,
   "metadata": {},
   "outputs": [],
   "source": [
    "os.chdir(module_path)"
   ]
  },
  {
   "cell_type": "code",
   "execution_count": null,
   "metadata": {},
   "outputs": [],
   "source": [
    "from src.evaluation.evaluator_manager import EvaluatorManager\n",
    "# from src.evaluation.evaluator_manager_do import EvaluatorManager as PairedEvaluatorManager\n",
    "from src.evaluation.future.evaluator_manager_do import EvaluatorManager as PairedEvaluatorManager\n",
    "from src.utils.context import Context\n",
    "from src.data_analysis.future.data_analyzer import DataAnalyzer as data_analyzer "
   ]
  },
  {
   "cell_type": "markdown",
   "metadata": {},
   "source": [
    "### Choosing the desired configuration"
   ]
  },
  {
   "cell_type": "code",
   "execution_count": null,
   "metadata": {},
   "outputs": [],
   "source": [
    "# Tree-Cycles.................................................................\n",
    "# TopSelect\n",
    "config_f_name = 'E6-TCR-128-28-0.25_GCN_Ens[DCE+OBS+iRand+RSGG]-BestSelect.jsonc'\n",
    "# Union\n",
    "# config_f_name = 'E7-TCR-128-28-0.25_GCN_Ens[DCE+OBS+iRand+RSGG]-Union.jsonc'\n",
    "# Intersection\n",
    "# config_f_name = 'E8-TCR-128-28-0.25_GCN_Ens[DCE+OBS+iRand+RSGG]-Intersection.jsonc'\n",
    "# Frequency\n",
    "# config_f_name = 'E9-TCR-128-28-0.25_GCN_Ens[DCE+OBS+iRand+RSGG]-Frequency.jsonc'\n",
    "# Random\n",
    "# config_f_name = 'E10-TCR-128-28_GCN_Ens[OBS+2xiRand+RSGG]-Rand.jsonc'\n",
    "# Bidirectional\n",
    "# config_f_name = 'E12-TCR-128-28_GCN_Ens[OBS+2xiRand+2xRSGG]-Bidirectional.jsonc'\n",
    "# Stochastic\n",
    "# config_f_name = 'E13-TCR-128-28_GCN_Ens[OBS+2xiRand+2xRSGG]-Stochastic.jsonc'\n",
    "\n",
    "# ASD........................................................................\n",
    "# TopSelect\n",
    "# config_f_name = 'E1-ASD_ASDO_Ens[DCE+OBS+iRand+RSGG]-BestSelect.jsonc'\n",
    "# Union\n",
    "# config_f_name = 'E2-ASD_ASDO_Ens[DCE+OBS+iRand+RSGG]-Union.jsonc'\n",
    "# Intersection\n",
    "# config_f_name = 'E3-ASD_ASDO_Ens[DCE+OBS+iRand+RSGG]-Intersection.jsonc'\n",
    "# Frequency\n",
    "# config_f_name = 'E4-ASD_ASDO_Ens[DCE+OBS+iRand+RSGG]-Frequency.jsonc'\n",
    "# Random\n",
    "# config_f_name = 'E5-ASD_ASDO_Ens[OBS+2xiRand+RSGG]-Rand.jsonc'\n",
    "# Bidirectional\n",
    "# config_f_name = 'E11-ASD_ASDO_Ens[OBS+2xiRand+2xRSGG]-Bidirectional.jsonc'\n"
   ]
  },
  {
   "cell_type": "markdown",
   "metadata": {},
   "source": [
    "### Evaluating the explainer"
   ]
  },
  {
   "cell_type": "code",
   "execution_count": null,
   "metadata": {},
   "outputs": [],
   "source": [
    "config_path = os.path.join(module_path, 'lab', 'config', config_f_name)\n",
    "runno = 2\n",
    "    \n",
    "print(f\"Generating context for: {config_path}\")\n",
    "context = Context.get_context(config_path)\n",
    "context.run_number = runno\n",
    "\n",
    "context.logger.info(f\"Executing: {context.config_file} Run: {context.run_number}\")\n",
    "context.logger.info(\"Creating the evaluation manager....................................\")\n",
    "\n",
    "\n",
    "if 'do-pairs' in context.conf:\n",
    "    context.logger.info(\"Creating the paired  evaluators.....................................\")\n",
    "    eval_manager = PairedEvaluatorManager(context)\n",
    "else:\n",
    "    context.logger.info(\"Creating the evaluators......................................................\")\n",
    "    eval_manager = EvaluatorManager(context)\n",
    "\n",
    "context.logger.info(\n",
    "    \"Evaluating the explainers.............................................................\"\n",
    ")\n",
    "eval_manager.evaluate()\n"
   ]
  },
  {
   "cell_type": "markdown",
   "metadata": {},
   "source": [
    "### Aggregating the stats"
   ]
  },
  {
   "cell_type": "code",
   "execution_count": null,
   "metadata": {},
   "outputs": [],
   "source": [
    "results_path = os.path.join(module_path, 'lab', 'output', 'results')\n",
    "stats_file_path = os.path.join(module_path, 'lab', 'stats', 'results.csv')\n",
    "res = data_analyzer.create_aggregated_dataframe(results_path)\n",
    "res.to_csv(stats_file_path)\n",
    "res"
   ]
  },
  {
   "cell_type": "markdown",
   "metadata": {},
   "source": [
    "### Visualizing individual instances"
   ]
  },
  {
   "cell_type": "code",
   "execution_count": null,
   "metadata": {},
   "outputs": [],
   "source": [
    "evaluator = eval_manager.evaluators[0]\n",
    "evaluator"
   ]
  },
  {
   "cell_type": "code",
   "execution_count": null,
   "metadata": {},
   "outputs": [],
   "source": [
    "exp = evaluator.explanations[2]\n",
    "og_inst = exp.input_instance\n",
    "cf_inst = exp.counterfactual_instances[0]"
   ]
  },
  {
   "cell_type": "code",
   "execution_count": null,
   "metadata": {},
   "outputs": [],
   "source": [
    "changes = data_analyzer.get_cf_changes(og_inst, cf_inst, False)"
   ]
  },
  {
   "cell_type": "code",
   "execution_count": null,
   "metadata": {},
   "outputs": [],
   "source": [
    "common_edges = changes['common edges']\n",
    "added_edges = changes['added edges']\n",
    "removed_edges = changes['removed edges']\n",
    "common_nodes = changes['common nodes']\n",
    "added_nodes = changes['added nodes']\n",
    "removed_nodes = changes['removed nodes']\n",
    "\n",
    "print(f'added edges: {added_edges}')\n",
    "print(f'removed_edges: {removed_edges}')\n",
    "print(f'added nodes: {added_nodes}')\n",
    "print(f'removed nodes: {removed_nodes}')"
   ]
  },
  {
   "cell_type": "code",
   "execution_count": null,
   "metadata": {},
   "outputs": [],
   "source": [
    "pos = data_analyzer.draw_graph(og_inst)"
   ]
  },
  {
   "cell_type": "code",
   "execution_count": null,
   "metadata": {},
   "outputs": [],
   "source": [
    "data_analyzer.draw_counterfactual_actions(og_inst, cf_inst, position=pos)"
   ]
  },
  {
   "cell_type": "code",
   "execution_count": null,
   "metadata": {},
   "outputs": [],
   "source": [
    "exp.explainer.name"
   ]
  }
 ],
 "metadata": {
  "kernelspec": {
   "display_name": "XAI39",
   "language": "python",
   "name": "python3"
  },
  "language_info": {
   "codemirror_mode": {
    "name": "ipython",
    "version": 3
   },
   "file_extension": ".py",
   "mimetype": "text/x-python",
   "name": "python",
   "nbconvert_exporter": "python",
   "pygments_lexer": "ipython3",
   "version": "3.9.17"
  }
 },
 "nbformat": 4,
 "nbformat_minor": 2
}
