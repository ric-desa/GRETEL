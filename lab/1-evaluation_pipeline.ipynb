{
 "cells": [
  {
   "cell_type": "markdown",
   "metadata": {},
   "source": [
    "### Setting paths and imports"
   ]
  },
  {
   "cell_type": "code",
   "execution_count": null,
   "metadata": {},
   "outputs": [],
   "source": [
    "import sys\n",
    "import os\n",
    "import pandas as pd\n",
    "\n",
    "module_path = os.path.abspath(os.path.join('..'))\n",
    "sys.path.append(module_path)\n",
    "module_path"
   ]
  },
  {
   "cell_type": "code",
   "execution_count": null,
   "metadata": {},
   "outputs": [],
   "source": [
    "os.chdir(module_path)"
   ]
  },
  {
   "cell_type": "code",
   "execution_count": null,
   "metadata": {},
   "outputs": [],
   "source": [
    "# from src.evaluation.evaluator_manager import EvaluatorManager\n",
    "# from src.evaluation.future.evaluator_manager_do import EvaluatorManager as PairedEvaluatorManager\n",
    "from src.utils.context import Context\n",
    "from src.data_analysis.future.data_analyzer import DataAnalyzer as data_analyzer\n",
    "\n",
    "from src.evaluation.future.evaluator_manager_triplets import EvaluatorManager"
   ]
  },
  {
   "cell_type": "code",
   "execution_count": null,
   "metadata": {},
   "outputs": [],
   "source": [
    "# config_f_name = 'ensembles/triplets/TCR-TCO/E10-TCR-128-28-0.25_TCO_Ensemble-Bidirectional.jsonc'\n",
    "# config_f_name = 'ensembles/triplets/TCR-TCO/E10-TCR-128-28-0.25_TCO_RSGG.jsonc'\n",
    "\n",
    "# config_f_name = 'ensembles/triplets/TCR-TCO/il-explainer-selector.jsonc'\n",
    "# config_f_name = 'ensembles/triplets/TCR-TCO/dl-explainer-selector.jsonc'\n",
    "\n",
    "# config_f_name = 'ensembles/triplets/imdb/iRand.jsonc'\n",
    "# config_f_name = 'ensembles/imdb/base_explainers_t0/base_explainers_t0_fold0.json'\n",
    "# config_f_name = 'ensembles/qualitative/clear.jsonc'\n",
    "# config_f_name = 'ensembles/qualitative/cf2.jsonc'\n",
    "# config_f_name = 'ensembles/qualitative/union.jsonc'\n",
    "\n",
    "# # Union\n",
    "# config_f_name = 'ensembles/tcr-tco/ensemble_explainers_t1/ensemble_explainers_t1_fold0.json'\n",
    "# # Intersection\n",
    "# config_f_name = 'ensembles/tcr-tco/ensemble_explainers_t2/ensemble_explainers_t2_fold0.json'\n",
    "# # Frequency\n",
    "# config_f_name = 'ensembles/tcr-tco/ensemble_explainers_t3/ensemble_explainers_t3_fold0.json'\n",
    "# # iRandom\n",
    "# config_f_name = 'ensembles/tcr-tco/ensemble_explainers_t4/ensemble_explainers_t4_fold0.json'\n",
    "# # Stochastic\n",
    "# config_f_name = 'ensembles/tcr-tco/ensemble_explainers_t5/ensemble_explainers_t5_fold0.json'\n",
    "# Bidirectional\n",
    "# config_f_name = 'ensembles/tcr-tco/ensemble_explainers_t6/ensemble_explainers_t6_fold0.json'\n",
    "\n",
    "# config_f_name = 'meta/generate_minimize.jsonc'\n",
    "config_f_name = 'meta_ens/tcr-tco/base_explainers_t0/base_explainers_t0_fold0.json'\n",
    "# config_f_name = 'base/bbbp_gcn_irand.jsonc'\n",
    "# config_f_name = 'meta/rsgg.jsonc'"
   ]
  },
  {
   "cell_type": "markdown",
   "metadata": {},
   "source": [
    "### Evaluating the explainer"
   ]
  },
  {
   "cell_type": "code",
   "execution_count": null,
   "metadata": {},
   "outputs": [],
   "source": [
    "# config_path = os.path.join(module_path, 'lab', 'config', config_f_name)\n",
    "# runno = 1\n",
    "    \n",
    "# print(f\"Generating context for: {config_path}\")\n",
    "# context = Context.get_context(config_path)\n",
    "# context.run_number = runno\n",
    "\n",
    "# context.logger.info(f\"Executing: {context.config_file} Run: {context.run_number}\")\n",
    "# context.logger.info(\"Creating the evaluation manager....................................\")\n",
    "\n",
    "# context.logger.info(\"Creating the evaluators......................................................\")\n",
    "# eval_manager = EvaluatorManager(context)"
   ]
  },
  {
   "cell_type": "code",
   "execution_count": null,
   "metadata": {},
   "outputs": [],
   "source": [
    "# evaluator = eval_manager._evaluators[0]\n",
    "\n",
    "# n_nodes = [inst.data.shape[0] for inst in evaluator.dataset.instances]\n",
    "# max(n_nodes)"
   ]
  },
  {
   "cell_type": "code",
   "execution_count": null,
   "metadata": {},
   "outputs": [],
   "source": [
    "config_path = os.path.join(module_path, 'lab', 'config', config_f_name)\n",
    "runno = 1\n",
    "    \n",
    "print(f\"Generating context for: {config_path}\")\n",
    "context = Context.get_context(config_path)\n",
    "context.run_number = runno\n",
    "\n",
    "context.logger.info(f\"Executing: {context.config_file} Run: {context.run_number}\")\n",
    "context.logger.info(\"Creating the evaluation manager....................................\")\n",
    "\n",
    "context.logger.info(\"Creating the evaluators......................................................\")\n",
    "eval_manager = EvaluatorManager(context)\n",
    "\n",
    "context.logger.info(\n",
    "    \"Evaluating the explainers.............................................................\"\n",
    ")\n",
    "eval_manager.evaluate()"
   ]
  },
  {
   "cell_type": "code",
   "execution_count": null,
   "metadata": {},
   "outputs": [],
   "source": [
    "exp_inst = []\n",
    "for exp in eval_manager.evaluators[0]._explanations:\n",
    "    exp.input_instance._dataset = None\n",
    "    exp.counterfactual_instances[0]._dataset = None\n",
    "    \n",
    "exp_inst = [(exp.input_instance, exp.counterfactual_instances[0]) for exp in eval_manager.evaluators[0]._explanations]"
   ]
  },
  {
   "cell_type": "code",
   "execution_count": null,
   "metadata": {},
   "outputs": [],
   "source": [
    "import os\n",
    "import pickle\n",
    "\n",
    "pickle_path = os.path.join(module_path, 'lab', 'pickles', 'union.pkl')\n",
    "pickle_dir = os.path.dirname(pickle_path)\n",
    "\n",
    "if not os.path.exists(pickle_dir):\n",
    "    os.makedirs(pickle_dir)\n",
    "\n",
    "with open(pickle_path, 'wb') as pickle_file:\n",
    "    pickle.dump(exp_inst, pickle_file)"
   ]
  },
  {
   "cell_type": "code",
   "execution_count": null,
   "metadata": {},
   "outputs": [],
   "source": [
    "with open(os.path.join(module_path, 'lab', 'pickles', 'union.pkl'), 'rb') as clear_file:\n",
    "    clear_exp = pickle.load(clear_file)"
   ]
  },
  {
   "cell_type": "markdown",
   "metadata": {},
   "source": [
    "### Aggregating the stats"
   ]
  },
  {
   "cell_type": "code",
   "execution_count": null,
   "metadata": {},
   "outputs": [],
   "source": [
    "results_path = os.path.join(module_path, 'lab', 'output', 'results')\n",
    "stats_file_path = os.path.join(module_path, 'lab', 'stats', 'results.csv')\n",
    "res = data_analyzer.create_aggregated_dataframe(results_path)\n",
    "res.to_csv(stats_file_path)\n",
    "res"
   ]
  },
  {
   "cell_type": "markdown",
   "metadata": {},
   "source": [
    "### Visualizing individual instances"
   ]
  },
  {
   "cell_type": "code",
   "execution_count": null,
   "metadata": {},
   "outputs": [],
   "source": [
    "evaluator = eval_manager.evaluators[0]\n",
    "evaluator"
   ]
  },
  {
   "cell_type": "code",
   "execution_count": null,
   "metadata": {},
   "outputs": [],
   "source": [
    "exp = evaluator.explanations[2]\n",
    "og_inst = exp.input_instance\n",
    "cf_inst = exp.counterfactual_instances[0]"
   ]
  },
  {
   "cell_type": "markdown",
   "metadata": {},
   "source": [
    "# Drawing Instances"
   ]
  },
  {
   "cell_type": "code",
   "execution_count": null,
   "metadata": {},
   "outputs": [],
   "source": [
    "import pickle\n",
    "\n",
    "with open(os.path.join(module_path, 'lab', 'pickles', 'cf2.pkl'), 'rb') as cf2_file:\n",
    "    cf2_exp = pickle.load(cf2_file)\n",
    "\n",
    "with open(os.path.join(module_path, 'lab', 'pickles', 'clear.pkl'), 'rb') as clear_file:\n",
    "    clear_exp = pickle.load(clear_file)\n",
    "\n",
    "with open(os.path.join(module_path, 'lab', 'pickles', 'irand.pkl'), 'rb') as irand_file:\n",
    "    irand_exp = pickle.load(irand_file)\n",
    "\n",
    "with open(os.path.join(module_path, 'lab', 'pickles', 'obs.pkl'), 'rb') as obs_file:\n",
    "    obs_exp = pickle.load(obs_file)\n",
    "\n",
    "with open(os.path.join(module_path, 'lab', 'pickles', 'rsgg.pkl'), 'rb') as rsgg_file:\n",
    "    rsgg_exp = pickle.load(rsgg_file)\n",
    "\n",
    "with open(os.path.join(module_path, 'lab', 'pickles', 'bidirectional.pkl'), 'rb') as bi_file:\n",
    "    bi_exp = pickle.load(bi_file)\n",
    "\n",
    "with open(os.path.join(module_path, 'lab', 'pickles', 'union.pkl'), 'rb') as union_file:\n",
    "    union_exp = pickle.load(union_file)\n"
   ]
  },
  {
   "cell_type": "code",
   "execution_count": null,
   "metadata": {},
   "outputs": [],
   "source": [
    "i = 7\n",
    "\n",
    "og_inst = cf2_exp[i][0]\n",
    "cf2_cf = cf2_exp[i][1]\n",
    "print(og_inst.id, cf2_cf.id)\n",
    "\n",
    "clear_cf = clear_exp[i][1]\n",
    "print(clear_exp[i][0].id, clear_cf.id)\n",
    "\n",
    "irand_cf = irand_exp[i][1]\n",
    "print(irand_exp[i][0].id, irand_cf.id)\n",
    "\n",
    "obs_cf = obs_exp[i][1]\n",
    "print(obs_exp[i][0].id, obs_cf.id)\n",
    "\n",
    "rsgg_cf = rsgg_exp[i][1]\n",
    "print(rsgg_exp[i][0].id, rsgg_cf.id)\n",
    "\n",
    "union_cf = union_exp[i][1]\n",
    "print(union_exp[i][0].id, union_cf.id)\n",
    "\n",
    "bi_cf = bi_exp[i][1]\n",
    "print(bi_exp[i][0].id, bi_cf.id)"
   ]
  },
  {
   "cell_type": "code",
   "execution_count": null,
   "metadata": {},
   "outputs": [],
   "source": [
    "pos = data_analyzer.draw_graph(og_inst)"
   ]
  },
  {
   "cell_type": "code",
   "execution_count": null,
   "metadata": {},
   "outputs": [],
   "source": [
    "data_analyzer.draw_counterfactual_actions(og_inst, cf2_cf, position=pos)"
   ]
  },
  {
   "cell_type": "code",
   "execution_count": null,
   "metadata": {},
   "outputs": [],
   "source": [
    "data_analyzer.draw_counterfactual_actions(og_inst, clear_cf, position=pos)"
   ]
  },
  {
   "cell_type": "code",
   "execution_count": null,
   "metadata": {},
   "outputs": [],
   "source": [
    "data_analyzer.draw_counterfactual_actions(og_inst, irand_cf, position=pos)"
   ]
  },
  {
   "cell_type": "code",
   "execution_count": null,
   "metadata": {},
   "outputs": [],
   "source": [
    "data_analyzer.draw_counterfactual_actions(og_inst, obs_cf, position=pos)"
   ]
  },
  {
   "cell_type": "code",
   "execution_count": null,
   "metadata": {},
   "outputs": [],
   "source": [
    "data_analyzer.draw_counterfactual_actions(og_inst, rsgg_cf, position=pos)"
   ]
  },
  {
   "cell_type": "code",
   "execution_count": null,
   "metadata": {},
   "outputs": [],
   "source": [
    "data_analyzer.draw_counterfactual_actions(og_inst, union_cf, position=pos)"
   ]
  },
  {
   "cell_type": "code",
   "execution_count": null,
   "metadata": {},
   "outputs": [],
   "source": [
    "data_analyzer.draw_counterfactual_actions(og_inst, bi_cf, position=pos)"
   ]
  },
  {
   "cell_type": "markdown",
   "metadata": {},
   "source": [
    "# End Paper Experiments"
   ]
  },
  {
   "cell_type": "code",
   "execution_count": null,
   "metadata": {},
   "outputs": [],
   "source": [
    "\n",
    "changes = data_analyzer.get_cf_changes(og_inst, cf_inst, False)"
   ]
  },
  {
   "cell_type": "code",
   "execution_count": null,
   "metadata": {},
   "outputs": [],
   "source": [
    "common_edges = changes['common edges']\n",
    "added_edges = changes['added edges']\n",
    "removed_edges = changes['removed edges']\n",
    "common_nodes = changes['common nodes']\n",
    "added_nodes = changes['added nodes']\n",
    "removed_nodes = changes['removed nodes']\n",
    "\n",
    "print(f'added edges: {added_edges}')\n",
    "print(f'removed_edges: {removed_edges}')\n",
    "print(f'added nodes: {added_nodes}')\n",
    "print(f'removed nodes: {removed_nodes}')"
   ]
  },
  {
   "cell_type": "code",
   "execution_count": null,
   "metadata": {},
   "outputs": [],
   "source": [
    "pos = data_analyzer.draw_graph(og_inst)"
   ]
  },
  {
   "cell_type": "code",
   "execution_count": null,
   "metadata": {},
   "outputs": [],
   "source": [
    "data_analyzer.draw_counterfactual_actions(og_inst, cf_inst, position=pos)"
   ]
  }
 ],
 "metadata": {
  "kernelspec": {
   "display_name": "XAI39",
   "language": "python",
   "name": "python3"
  },
  "language_info": {
   "codemirror_mode": {
    "name": "ipython",
    "version": 3
   },
   "file_extension": ".py",
   "mimetype": "text/x-python",
   "name": "python",
   "nbconvert_exporter": "python",
   "pygments_lexer": "ipython3",
   "version": "3.9.17"
  }
 },
 "nbformat": 4,
 "nbformat_minor": 2
}
